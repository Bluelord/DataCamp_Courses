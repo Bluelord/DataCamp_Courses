{
  "nbformat": 4,
  "nbformat_minor": 0,
  "metadata": {
    "colab": {
      "name": "01 Matplotlib.ipynb",
      "provenance": [],
      "authorship_tag": "ABX9TyP2U41/t0nOqCx/ZnbZ1jnr",
      "include_colab_link": true
    },
    "kernelspec": {
      "name": "python3",
      "display_name": "Python 3"
    },
    "language_info": {
      "name": "python"
    }
  },
  "cells": [
    {
      "cell_type": "markdown",
      "metadata": {
        "id": "view-in-github",
        "colab_type": "text"
      },
      "source": [
        "<a href=\"https://colab.research.google.com/github/Bluelord/DataCamp_Courses/blob/main/02%20Intermediate%20Python/01%20Matplotlib.ipynb\" target=\"_parent\"><img src=\"https://colab.research.google.com/assets/colab-badge.svg\" alt=\"Open In Colab\"/></a>"
      ]
    },
    {
      "cell_type": "markdown",
      "metadata": {
        "id": "wmeFXFGejZz0"
      },
      "source": [
        "# Intermediate Python"
      ]
    },
    {
      "cell_type": "markdown",
      "metadata": {
        "id": "azwbkrc5jcGX"
      },
      "source": [
        "## **Matplotlib**"
      ]
    },
    {
      "cell_type": "markdown",
      "metadata": {
        "id": "Zsly60Xyjj4q"
      },
      "source": [
        "Data visualization is a key skill for aspiring data scientists. Matplotlib makes it easy to create meaningful and insightful plots. In this chapter, you’ll learn how to build various types of plots, and customize them to be more visually appealing and interpretable.\n"
      ]
    },
    {
      "cell_type": "code",
      "metadata": {
        "id": "nXqbnoUtF4_D",
        "colab": {
          "base_uri": "https://localhost:8080/",
          "height": 197
        },
        "outputId": "574bfaa0-6463-4153-f620-94ed17eaf9e7"
      },
      "source": [
        "# Data used in this Course\n",
        "# url = 'https://assets.datacamp.com/production/repositories/287/datasets/5b1e4356f9fa5b5ce32e9bd2b75c777284819cca/gapminder.csv' # gapminder\n",
        "# url = 'https://assets.datacamp.com/production/repositories/287/datasets/79b3c22c47a2f45a800c62cae39035ff2ea4e609/cars.csv' # cars\n",
        "# url = 'https://assets.datacamp.com/production/repositories/287/datasets/b60fb5bdbeb4e4ab0545c485d351e6ff5428a155/brics.csv' # brics\n",
        "\n",
        "import pandas as pd\n",
        "url = 'https://assets.datacamp.com/production/repositories/287/datasets/5b1e4356f9fa5b5ce32e9bd2b75c777284819cca/gapminder.csv'\n",
        "dataframe = pd.read_csv(url, index_col=0)\n",
        "dataframe.head()"
      ],
      "execution_count": 12,
      "outputs": [
        {
          "output_type": "execute_result",
          "data": {
            "text/html": [
              "<div>\n",
              "<style scoped>\n",
              "    .dataframe tbody tr th:only-of-type {\n",
              "        vertical-align: middle;\n",
              "    }\n",
              "\n",
              "    .dataframe tbody tr th {\n",
              "        vertical-align: top;\n",
              "    }\n",
              "\n",
              "    .dataframe thead th {\n",
              "        text-align: right;\n",
              "    }\n",
              "</style>\n",
              "<table border=\"1\" class=\"dataframe\">\n",
              "  <thead>\n",
              "    <tr style=\"text-align: right;\">\n",
              "      <th></th>\n",
              "      <th>country</th>\n",
              "      <th>year</th>\n",
              "      <th>population</th>\n",
              "      <th>cont</th>\n",
              "      <th>life_exp</th>\n",
              "      <th>gdp_cap</th>\n",
              "    </tr>\n",
              "  </thead>\n",
              "  <tbody>\n",
              "    <tr>\n",
              "      <th>11</th>\n",
              "      <td>Afghanistan</td>\n",
              "      <td>2007</td>\n",
              "      <td>31889923.0</td>\n",
              "      <td>Asia</td>\n",
              "      <td>43.828</td>\n",
              "      <td>974.580338</td>\n",
              "    </tr>\n",
              "    <tr>\n",
              "      <th>23</th>\n",
              "      <td>Albania</td>\n",
              "      <td>2007</td>\n",
              "      <td>3600523.0</td>\n",
              "      <td>Europe</td>\n",
              "      <td>76.423</td>\n",
              "      <td>5937.029526</td>\n",
              "    </tr>\n",
              "    <tr>\n",
              "      <th>35</th>\n",
              "      <td>Algeria</td>\n",
              "      <td>2007</td>\n",
              "      <td>33333216.0</td>\n",
              "      <td>Africa</td>\n",
              "      <td>72.301</td>\n",
              "      <td>6223.367465</td>\n",
              "    </tr>\n",
              "    <tr>\n",
              "      <th>47</th>\n",
              "      <td>Angola</td>\n",
              "      <td>2007</td>\n",
              "      <td>12420476.0</td>\n",
              "      <td>Africa</td>\n",
              "      <td>42.731</td>\n",
              "      <td>4797.231267</td>\n",
              "    </tr>\n",
              "    <tr>\n",
              "      <th>59</th>\n",
              "      <td>Argentina</td>\n",
              "      <td>2007</td>\n",
              "      <td>40301927.0</td>\n",
              "      <td>Americas</td>\n",
              "      <td>75.320</td>\n",
              "      <td>12779.379640</td>\n",
              "    </tr>\n",
              "  </tbody>\n",
              "</table>\n",
              "</div>"
            ],
            "text/plain": [
              "        country  year  population      cont  life_exp       gdp_cap\n",
              "11  Afghanistan  2007  31889923.0      Asia    43.828    974.580338\n",
              "23      Albania  2007   3600523.0    Europe    76.423   5937.029526\n",
              "35      Algeria  2007  33333216.0    Africa    72.301   6223.367465\n",
              "47       Angola  2007  12420476.0    Africa    42.731   4797.231267\n",
              "59    Argentina  2007  40301927.0  Americas    75.320  12779.379640"
            ]
          },
          "metadata": {
            "tags": []
          },
          "execution_count": 12
        }
      ]
    },
    {
      "cell_type": "code",
      "metadata": {
        "id": "Wn9wOF8njaMx"
      },
      "source": [
        "year = list(dataframe.year)\n",
        "pop = list(dataframe.population)"
      ],
      "execution_count": 20,
      "outputs": []
    },
    {
      "cell_type": "markdown",
      "metadata": {
        "id": "pWoIwpgBq1P1"
      },
      "source": [
        "**Line plot**\n",
        "\n",
        "The most basic plot is the line plot. A general recipe is given here.\n",
        "\n",
        "    import matplotlib.pyplot as plt\n",
        "    plt.plot(x,y)\n",
        "    plt.show()\n",
        "\n",
        "**Instructions**\n",
        "\n",
        "*   print() the last item from both the year and the pop list to see what the predicted population for the year 2100 is. Use two print() functions.\n",
        "*   Before you can start, you should import matplotlib.pyplot as plt. pyplot is a sub-package of matplotlib, hence the dot.\n",
        "*   Use plt.plot() to build a line plot. year should be mapped on the horizontal axis, pop on the vertical axis. Don't forget to finish off with the show() function to actually display the plot."
      ]
    },
    {
      "cell_type": "code",
      "metadata": {
        "id": "_0Rpw4FnjYtV",
        "colab": {
          "base_uri": "https://localhost:8080/",
          "height": 311
        },
        "outputId": "5c8dea45-aea9-45f9-8b2b-6699e0da885d"
      },
      "source": [
        "# Print the last item from year and pop\n",
        "print(year[-1])\n",
        "print(pop[-1])\n",
        "\n",
        "# Import matplotlib.pyplot as plt\n",
        "import matplotlib.pyplot as plt\n",
        "\n",
        "# Make a line plot: year on the x-axis, pop on the y-axis\n",
        "plt.plot(year, pop)\n",
        "\n",
        "# Display the plot with plt.show()\n",
        "plt.show()"
      ],
      "execution_count": 19,
      "outputs": [
        {
          "output_type": "stream",
          "text": [
            "2007\n",
            "12311143.0\n"
          ],
          "name": "stdout"
        },
        {
          "output_type": "display_data",
          "data": {
            "image/png": "[encoded data removed]",
            "text/plain": [
              "<Figure size 432x288 with 1 Axes>"
            ]
          },
          "metadata": {
            "tags": [],
            "needs_background": "light"
          }
        }
      ]
    },
    {
      "cell_type": "code",
      "metadata": {
        "id": "VBK_sbpinFf6"
      },
      "source": [
        "life_exp = list(dataframe.life_exp)\n",
        "gdp_cap = list(dataframe.gdp_cap)"
      ],
      "execution_count": 21,
      "outputs": []
    },
    {
      "cell_type": "markdown",
      "metadata": {
        "id": "FwhvyWxfmboK"
      },
      "source": [
        "**Instructions**\n",
        "\n",
        "Print the last item from both the list gdp_cap, and the list life_exp; it is information about Zimbabwe.\n",
        "Build a line chart, with gdp_cap on the x-axis, and life_exp on the y-axis. Does it make sense to plot this data on a line plot?\n",
        "Don't forget to finish off with a plt.show() command, to actually display the plot."
      ]
    },
    {
      "cell_type": "code",
      "metadata": {
        "colab": {
          "base_uri": "https://localhost:8080/",
          "height": 282
        },
        "id": "3j-t4mXNkeFB",
        "outputId": "8f343c34-6895-40ad-977e-b73a80ccc6c3"
      },
      "source": [
        "import matplotlib.pyplot as plt\n",
        "# Print the last item of gdp_cap and life_exp\n",
        "print(gdp_cap[-1], life_exp[-1])\n",
        "\n",
        "# Make a line plot, gdp_cap on the x-axis, life_exp on the y-axis\n",
        "plt.plot(gdp_cap,life_exp)\n",
        "\n",
        "# Display the plot\n",
        "plt.show()\n",
        "# Does not make any sense"
      ],
      "execution_count": 22,
      "outputs": [
        {
          "output_type": "stream",
          "text": [
            "469.70929810000007 43.486999999999995\n"
          ],
          "name": "stdout"
        },
        {
          "output_type": "display_data",
          "data": {
            "image/png": "[encoded data removed]",
            "text/plain": [
              "<Figure size 432x288 with 1 Axes>"
            ]
          },
          "metadata": {
            "tags": [],
            "needs_background": "light"
          }
        }
      ]
    },
    {
      "cell_type": "markdown",
      "metadata": {
        "id": "U6ukRCQIoNaZ"
      },
      "source": [
        "**Scatter Plot**\n",
        "\n",
        "    import matplotlib.pyplot as plt\n",
        "    plt.scatter(x,y)\n",
        "    plt.show()\n",
        "\n",
        "**Instructions**\n",
        "\n",
        "Change the line plot that's coded in the script to a scatter plot.\n",
        "A correlation will become clear when you display the GDP per capita on a logarithmic scale. Add the line plt.xscale('log').\n",
        "Finish off your script with plt.show() to display the plot."
      ]
    },
    {
      "cell_type": "code",
      "metadata": {
        "colab": {
          "base_uri": "https://localhost:8080/",
          "height": 268
        },
        "id": "rD6sOxfRoHhy",
        "outputId": "b65ec34e-9431-45c9-c7fd-97f79644da3d"
      },
      "source": [
        "# Change the line plot below to a scatter plot\n",
        "plt.scatter(gdp_cap, life_exp)\n",
        "\n",
        "# Put the x-axis on a logarithmic scale\n",
        "plt.xscale('log')\n",
        "# Show plot\n",
        "plt.show()"
      ],
      "execution_count": 23,
      "outputs": [
        {
          "output_type": "display_data",
          "data": {
            "image/png": "[encoded data removed]",
            "text/plain": [
              "<Figure size 432x288 with 1 Axes>"
            ]
          },
          "metadata": {
            "tags": [],
            "needs_background": "light"
          }
        }
      ]
    },
    {
      "cell_type": "markdown",
      "metadata": {
        "id": "YJ_EkdVHpW_L"
      },
      "source": [
        "**Instructions**\n",
        "\n",
        "Start from scratch: import matplotlib.pyplot as plt.\n",
        "Build a scatter plot, where pop is mapped on the horizontal axis, and life_exp is mapped on the vertical axis.\n",
        "Finish the script with plt.show() to actually display the plot. Do you see a correlation?\n"
      ]
    },
    {
      "cell_type": "code",
      "metadata": {
        "colab": {
          "base_uri": "https://localhost:8080/",
          "height": 268
        },
        "id": "JRlNqXXVpGMU",
        "outputId": "a4eb2f2f-f3d1-4a1e-d23b-8d9bd037dc67"
      },
      "source": [
        "# Import package\n",
        "import matplotlib.pyplot as pyplot\n",
        "# Build Scatter plot\n",
        "plt.scatter(pop, life_exp)\n",
        "plt.xscale('log')\n",
        "# Show plot\n",
        "plt.show()"
      ],
      "execution_count": 24,
      "outputs": [
        {
          "output_type": "display_data",
          "data": {
            "image/png": "[encoded data removed]",
            "text/plain": [
              "<Figure size 432x288 with 1 Axes>"
            ]
          },
          "metadata": {
            "tags": [],
            "needs_background": "light"
          }
        }
      ]
    },
    {
      "cell_type": "markdown",
      "metadata": {
        "id": "0mnGXKnTq5yq"
      },
      "source": [
        "**Histogram**\n",
        "\n",
        "To see how life expectancy in different countries is distributed, let's create a histogram of life_exp.\n",
        "\n",
        "**Instructions**\n",
        "\n",
        "Use plt.hist() to create a histogram of the values in life_exp. Do not specify the number of bins; Python will set the number of bins to 10 by default for you.\n",
        "Add plt.show() to actually display the histogram. Can you tell which bin contains the most observations?"
      ]
    },
    {
      "cell_type": "code",
      "metadata": {
        "colab": {
          "base_uri": "https://localhost:8080/",
          "height": 264
        },
        "id": "LmxNCmAZqWxl",
        "outputId": "f971b415-0248-424d-a286-b95b1fdc539b"
      },
      "source": [
        "# Create histogram of life_exp data\n",
        "plt.hist(life_exp, bins = 25)\n",
        "# Display histogram\n",
        "plt.show()"
      ],
      "execution_count": 25,
      "outputs": [
        {
          "output_type": "display_data",
          "data": {
            "image/png": "[encoded data removed]",
            "text/plain": [
              "<Figure size 432x288 with 1 Axes>"
            ]
          },
          "metadata": {
            "tags": [],
            "needs_background": "light"
          }
        }
      ]
    },
    {
      "cell_type": "markdown",
      "metadata": {
        "id": "dEEXoD71rxWa"
      },
      "source": [
        "To control the number of bins to divide your data in, you can set the bins argument. That's exactly what you'll do in this exercise. You'll be making two plots here. The code in the script already includes plt.show() and plt.clf() calls; plt.show() displays a plot; plt.clf() cleans it up again so you can start afresh.Build a histogram of life_exp, with 5 bins. Build another histogram of life_exp, this time with 20 bins."
      ]
    },
    {
      "cell_type": "code",
      "metadata": {
        "colab": {
          "base_uri": "https://localhost:8080/",
          "height": 531
        },
        "id": "xXvbRrQNruvL",
        "outputId": "9837dc8e-3858-4f1c-ba0e-d5fc91b0ce62"
      },
      "source": [
        "# Build histogram with 5 bins\n",
        "plt.hist(life_exp, bins = 5)\n",
        "# Show and clean up plot\n",
        "plt.show()\n",
        "plt.clf()\n",
        "# Build histogram with 20 bins\n",
        "plt.hist(life_exp, bins = 20)\n",
        "# Show and clean up again\n",
        "plt.show()\n",
        "plt.clf()"
      ],
      "execution_count": 26,
      "outputs": [
        {
          "output_type": "display_data",
          "data": {
            "image/png": "[encoded data removed]",
            "text/plain": [
              "<Figure size 432x288 with 1 Axes>"
            ]
          },
          "metadata": {
            "tags": [],
            "needs_background": "light"
          }
        },
        {
          "output_type": "display_data",
          "data": {
            "image/png": "[encoded data removed]",
            "text/plain": [
              "<Figure size 432x288 with 1 Axes>"
            ]
          },
          "metadata": {
            "tags": [],
            "needs_background": "light"
          }
        },
        {
          "output_type": "display_data",
          "data": {
            "text/plain": [
              "<Figure size 432x288 with 0 Axes>"
            ]
          },
          "metadata": {
            "tags": []
          }
        }
      ]
    },
    {
      "cell_type": "markdown",
      "metadata": {
        "id": "Bc8qhAtvuVf8"
      },
      "source": [
        "**Labels**\n",
        "\n",
        "As a first step, let's add axis labels and a title to the plot. You can do this with the xlabel(), ylabel() and title() functions of matplotlib. \n",
        "\n",
        "**Instructions**\n",
        "\n",
        "The strings xlab and ylab are already set for you. Use these variables to set the label of the x- and y-axis.\n",
        "The string title is also coded for you. Use it to add a title to the plot.\n",
        "After these customizations, finish the script with plt.show() to actually display the plot."
      ]
    },
    {
      "cell_type": "code",
      "metadata": {
        "colab": {
          "base_uri": "https://localhost:8080/",
          "height": 298
        },
        "id": "Y0cXxxyLsgq6",
        "outputId": "0917385c-41e2-4e5f-bd54-7d18e1e7d21e"
      },
      "source": [
        "# Basic scatter plot, log scale\n",
        "plt.scatter(gdp_cap, life_exp)\n",
        "plt.xscale('log') \n",
        "\n",
        "# Strings\n",
        "xlab = 'GDP per Capita [in USD]'\n",
        "ylab = 'Life Expectancy [in years]'\n",
        "title = 'World Development in 2007'\n",
        "\n",
        "# Add axis labels\n",
        "plt.xlabel(xlab)\n",
        "plt.ylabel(ylab)\n",
        "\n",
        "# Add title\n",
        "plt.title(title)\n",
        "\n",
        "# After customizing, display the plot\n",
        "plt.show()"
      ],
      "execution_count": 27,
      "outputs": [
        {
          "output_type": "display_data",
          "data": {
            "image/png": "[encoded data removed]",
            "text/plain": [
              "<Figure size 432x288 with 1 Axes>"
            ]
          },
          "metadata": {
            "tags": [],
            "needs_background": "light"
          }
        }
      ]
    },
    {
      "cell_type": "markdown",
      "metadata": {
        "id": "BpRHdLWbvldj"
      },
      "source": [
        "**Ticks**\n",
        "\n",
        "    plt.yticks([0,1,2], [\"one\",\"two\",\"three\"])\n",
        "In this example, the ticks corresponding to the numbers 0, 1 and 2 will be replaced by one, two and three, respectively. Let's do a similar thing for the x-axis of your world development chart, with the xticks() function. The tick values 1000, 10000 and 100000 should be replaced by 1k, 10k and 100k. To this end, two lists have already been created for you: tick_val and tick_lab."
      ]
    },
    {
      "cell_type": "code",
      "metadata": {
        "colab": {
          "base_uri": "https://localhost:8080/",
          "height": 294
        },
        "id": "wEM4TSXvuvr-",
        "outputId": "f8a3da60-5e14-4951-8ea2-c9df684afd26"
      },
      "source": [
        "# Scatter plot\n",
        "plt.scatter(gdp_cap, life_exp)\n",
        "# Previous customizations\n",
        "plt.xscale('log') \n",
        "plt.xlabel('GDP per Capita [in USD]')\n",
        "plt.ylabel('Life Expectancy [in years]')\n",
        "plt.title('World Development in 2007')\n",
        "# Definition of tick_val and tick_lab\n",
        "tick_val = [1000,10000,100000]\n",
        "tick_lab = ['1k','10k','100k']\n",
        "# Adapt the ticks on the x-axis\n",
        "plt.xticks(tick_val, tick_lab)\n",
        "# After customizing, display the plot\n",
        "plt.show()"
      ],
      "execution_count": 29,
      "outputs": [
        {
          "output_type": "display_data",
          "data": {
            "image/png": "[encoded data removed]",
            "text/plain": [
              "<Figure size 432x288 with 1 Axes>"
            ]
          },
          "metadata": {
            "tags": [],
            "needs_background": "light"
          }
        }
      ]
    },
    {
      "cell_type": "markdown",
      "metadata": {
        "id": "C-GbQahHwXPD"
      },
      "source": [
        "**Sizes**\n",
        "\n",
        "Right now, the scatter plot is just a blue dots, indistinguishable from each other, to change the size of the dots corresponds to the population by adding a list to the scatter method, as the argument **s**, for size.\n",
        "\n",
        "**Instructions**\n",
        "\n",
        "Import the numpy package as np.\n",
        "Use np.array() to create a numpy array from the list pop. Call this Numpy array np_pop. Double the values in np_pop setting the value of np_pop equal to np_pop * 2. Because np_pop is a Numpy array, each array element will be doubled.\n",
        "Change the s argument inside plt.scatter() to be np_pop instead of pop."
      ]
    },
    {
      "cell_type": "code",
      "metadata": {
        "id": "koJstSh_vgtr"
      },
      "source": [
        "# Import numpy as np\n",
        "import numpy as np\n",
        "\n",
        "# Store pop as a numpy array: np_pop\n",
        "np_pop = np.array(pop)\n",
        "\n",
        "# Double np_pop\n",
        "np_pop = np_pop * 0.2\n",
        "\n",
        "# Update: set s argument to np_pop\n",
        "plt.scatter(gdp_cap, life_exp, s = np_pop)\n",
        "\n",
        "# Previous customizations\n",
        "plt.xscale('log') \n",
        "plt.xlabel('GDP per Capita [in USD]')\n",
        "plt.ylabel('Life Expectancy [in years]')\n",
        "plt.title('World Development in 2007')\n",
        "plt.xticks([1000, 10000, 100000],['1k', '10k', '100k'])\n",
        "\n",
        "# Display the plot\n",
        "plt.show()"
      ],
      "execution_count": null,
      "outputs": []
    },
    {
      "cell_type": "markdown",
      "metadata": {
        "id": "R9fPJg7eyA_0"
      },
      "source": [
        "**Colors**\n",
        "\n",
        "    dict = {'Asia':'red',\n",
        "        'Europe':'green',\n",
        "        'Africa':'blue',\n",
        "        'Americas':'yellow',\n",
        "        'Oceania':'black'}\n",
        "\n",
        "Nothing to worry about now; you will learn about dictionaries in the next chapter. Add c = col to the arguments of the plt.scatter() function.\n",
        "Change the opacity of the bubbles by setting the alpha argument to 0.8 inside plt.scatter(). Alpha can be set from zero to one, where zero is totally transparent, and one is not at all transparent."
      ]
    },
    {
      "cell_type": "code",
      "metadata": {
        "id": "_k6YWrC6xl88"
      },
      "source": [
        "col = {\n",
        "    'Asia':'red',\n",
        "    'Europe':'green',\n",
        "    'Africa':'blue',\n",
        "    'Americas':'yellow',\n",
        "    'Oceania':'black'\n",
        "}\n",
        "# Specify c and alpha inside plt.scatter()\n",
        "plt.scatter(x = gdp_cap, y = life_exp, s = np.array(pop) * 2, c = col, alpha = 0.8)\n",
        "\n",
        "# Previous customizations\n",
        "plt.xscale('log') \n",
        "plt.xlabel('GDP per Capita [in USD]')\n",
        "plt.ylabel('Life Expectancy [in years]')\n",
        "plt.title('World Development in 2007')\n",
        "plt.xticks([1000,10000,100000], ['1k','10k','100k'])\n",
        "\n",
        "# Show the plot\n",
        "plt.show()"
      ],
      "execution_count": null,
      "outputs": []
    },
    {
      "cell_type": "code",
      "metadata": {
        "id": "ZaxT5c-Lyxrt"
      },
      "source": [
        "# Scatter plot\n",
        "plt.scatter(x = gdp_cap, y = life_exp, s = np.array(pop) * 2, c = col, alpha = 0.8)\n",
        "\n",
        "# Previous customizations\n",
        "plt.xscale('log') \n",
        "plt.xlabel('GDP per Capita [in USD]')\n",
        "plt.ylabel('Life Expectancy [in years]')\n",
        "plt.title('World Development in 2007')\n",
        "plt.xticks([1000,10000,100000], ['1k','10k','100k'])\n",
        "\n",
        "# Additional customizations\n",
        "plt.text(1550, 71, 'India')\n",
        "plt.text(5700, 80, 'China')\n",
        "\n",
        "# Add grid() call\n",
        "plt.grid(True)\n",
        "\n",
        "# Show the plot\n",
        "plt.show()"
      ],
      "execution_count": null,
      "outputs": []
    },
    {
      "cell_type": "code",
      "metadata": {
        "id": "bPBgLvsfzens"
      },
      "source": [
        ""
      ],
      "execution_count": null,
      "outputs": []
    }
  ]
}