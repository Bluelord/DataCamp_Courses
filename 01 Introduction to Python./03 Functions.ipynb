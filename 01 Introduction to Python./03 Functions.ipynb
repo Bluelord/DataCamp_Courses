{
  "nbformat": 4,
  "nbformat_minor": 0,
  "metadata": {
    "colab": {
      "name": "03 Functions.ipynb",
      "provenance": [],
      "authorship_tag": "ABX9TyOx5kkNqk2ffovaWbzoKx7E",
      "include_colab_link": true
    },
    "kernelspec": {
      "name": "python3",
      "display_name": "Python 3"
    },
    "language_info": {
      "name": "python"
    }
  },
  "cells": [
    {
      "cell_type": "markdown",
      "metadata": {
        "id": "view-in-github",
        "colab_type": "text"
      },
      "source": [
        "<a href=\"https://colab.research.google.com/github/Bluelord/DataCamp_Courses/blob/main/01%20Introduction%20to%20Python./03%20Functions.ipynb\" target=\"_parent\"><img src=\"https://colab.research.google.com/assets/colab-badge.svg\" alt=\"Open In Colab\"/></a>"
      ]
    },
    {
      "cell_type": "markdown",
      "metadata": {
        "id": "8vBGlStTvWKa"
      },
      "source": [
        "# Introduction to Python"
      ]
    },
    {
      "cell_type": "markdown",
      "metadata": {
        "id": "YSWBrLp8vX9I"
      },
      "source": [
        "## **Functions**"
      ]
    },
    {
      "cell_type": "markdown",
      "metadata": {
        "id": "40RIc4NGvjOJ"
      },
      "source": [
        "You'll learn how to use functions, methods, and packages to efficiently leverage the code that brilliant Python developers have written. The goal is to reduce the amount of code you need to solve challenging problems!"
      ]
    },
    {
      "cell_type": "markdown",
      "metadata": {
        "id": "qgDVUeGvwE2R"
      },
      "source": [
        "**Familiar functions**\n",
        "\n",
        "Python offers a bunch of built-in functions You already know two such functions: print() and type(), str(), int(), bool() and float(). The general way of calling functions and saving the result to a variable is thus:\n",
        "\n",
        "    output = function_name(input)\n",
        "\n",
        "**Instructions**\n",
        "\n",
        "Use print() in combination with type() to print out the type of var1.\n",
        "Use len() to get the length of the list var1 and print() it. Use int() to convert var2 to an integer. Store the output as out2 and print it."
      ]
    },
    {
      "cell_type": "code",
      "metadata": {
        "colab": {
          "base_uri": "https://localhost:8080/"
        },
        "id": "htrRlb_PvSz9",
        "outputId": "3c640519-a34f-4d7d-9ec3-4bcdfca9e31a"
      },
      "source": [
        "# Create variables var1 and var2\n",
        "var1 = [1, 2, 3, 4]\n",
        "var2 = True\n",
        "\n",
        "# Print out type of var1\n",
        "print(type(var1))\n",
        "\n",
        "# Print out length of var1\n",
        "print(len(var1))\n",
        "\n",
        "# Convert var2 to an integer: out2\n",
        "out2 = int(var2)\n",
        "print(out2)"
      ],
      "execution_count": null,
      "outputs": [
        {
          "output_type": "stream",
          "text": [
            "<class 'list'>\n",
            "4\n",
            "1\n"
          ],
          "name": "stdout"
        }
      ]
    },
    {
      "cell_type": "markdown",
      "metadata": {
        "id": "0LXMG8l-xw85"
      },
      "source": [
        "**Multiple arguments**\n",
        "\n",
        "Some Function have multiple arguments, to be used for specifing the function need to the user. You'll see that sorted() takes three arguments: iterable, key and reverse. In this exercise, you'll only have to specify iterable and reverse, not key.\n",
        "\n",
        "**Instructions*\n",
        "\n",
        "Use + to merge the contents of first and second into a new list: full.\n",
        "Call sorted() on full and specify the reverse argument to be True."
      ]
    },
    {
      "cell_type": "code",
      "metadata": {
        "colab": {
          "base_uri": "https://localhost:8080/"
        },
        "id": "i8Z6QKmcxahC",
        "outputId": "9f7567b6-4a96-4573-fd11-4ea23adcbe96"
      },
      "source": [
        "# Create lists first and second\n",
        "first = [11.25, 18.0, 20.0]\n",
        "second = [10.75, 9.50]\n",
        "\n",
        "# Paste together first and second: full\n",
        "full = first + second\n",
        "\n",
        "# Sort full in descending order: full_sorted\n",
        "full_sorted = sorted(full, reverse=True)\n",
        "\n",
        "# Print out full_sorted\n",
        "print(full_sorted)"
      ],
      "execution_count": null,
      "outputs": [
        {
          "output_type": "stream",
          "text": [
            "[20.0, 18.0, 11.25, 10.75, 9.5]\n"
          ],
          "name": "stdout"
        }
      ]
    },
    {
      "cell_type": "markdown",
      "metadata": {
        "id": "pro0bVgv1UZB"
      },
      "source": [
        "**String Methods**\n",
        "\n",
        "Strings come with a bunch of methods. Follow the instructions closely to discover some of them. If you want to discover them in more detail, you can always type help(str) in the IPython Shell.\n",
        "\n",
        "**Instructions**\n",
        "\n",
        "Use the upper() method on place and store the result in place_up. Print out place and place_up. Print out the number of o's on the variable place by calling count() on place and passing the letter 'o' as an input to the method. We're talking about the variable place, not the word \"place\"!"
      ]
    },
    {
      "cell_type": "code",
      "metadata": {
        "colab": {
          "base_uri": "https://localhost:8080/"
        },
        "id": "6-tlzXor1QxS",
        "outputId": "731747a6-c528-4e11-8411-e0cfaef737dc"
      },
      "source": [
        "# string to experiment with: place\n",
        "place = \"poolhouse\"\n",
        "\n",
        "# Use upper() on place: place_up\n",
        "place_up = place.upper()\n",
        "\n",
        "# Print out place and place_up\n",
        "print(place, place_up)\n",
        "\n",
        "# Print out the number of o's in place\n",
        "print(place.count('o'))"
      ],
      "execution_count": null,
      "outputs": [
        {
          "output_type": "stream",
          "text": [
            "poolhouse POOLHOUSE\n",
            "3\n"
          ],
          "name": "stdout"
        }
      ]
    },
    {
      "cell_type": "markdown",
      "metadata": {
        "id": "QRoYs7cp2MjT"
      },
      "source": [
        "**List Methods**\n",
        "\n",
        "Strings are not the only Python types that have methods associated with them. Lists, floats, integers and booleans are also types that come packaged with a bunch of useful methods. In this exercise, index(), count(), append(), remove(), reverse() is used.\n",
        "\n",
        "**Instructions**\n",
        "\n",
        "*   Use the index() method to get the index of the element in areas that is equal to 20.0. Print out this index.\n",
        "*   Call count() on areas to find out how many times 9.50 appears in the list\n",
        "*   Use append() twice to add the size of the poolhouse and the garage again: 24.5 and 15.45, respectively, add them in this order.\n",
        "*   Use the reverse() method to reverse the order of the elements in areas.\n",
        "Print out areas once more.\n"
      ]
    },
    {
      "cell_type": "code",
      "metadata": {
        "colab": {
          "base_uri": "https://localhost:8080/"
        },
        "id": "MlHZ_xUe2JKE",
        "outputId": "60f0536d-b283-4f13-b31b-11c7f9344712"
      },
      "source": [
        "# Create list areas\n",
        "areas = [11.25, 18.0, 20.0, 10.75, 9.50]\n",
        "\n",
        "# Print out the index of the element 20.0\n",
        "print(areas.index(20.0))\n",
        "\n",
        "# Print out how often 9.50 appears in areas\n",
        "print(areas.count(9.50))\n",
        "\n",
        "# Use append twice to add poolhouse and garage size\n",
        "areas.append(24.5)\n",
        "areas.append(15.45)\n",
        "\n",
        "# Print out areas\n",
        "print(areas)\n",
        "\n",
        "# Reverse the orders of the elements in areas\n",
        "areas.reverse()\n",
        "\n",
        "# Print out areas\n",
        "print(areas)"
      ],
      "execution_count": null,
      "outputs": [
        {
          "output_type": "stream",
          "text": [
            "2\n",
            "1\n",
            "[11.25, 18.0, 20.0, 10.75, 9.5, 24.5, 15.45]\n",
            "[15.45, 24.5, 9.5, 10.75, 20.0, 18.0, 11.25]\n"
          ],
          "name": "stdout"
        }
      ]
    },
    {
      "cell_type": "markdown",
      "metadata": {
        "id": "KfLYkTK72aax"
      },
      "source": [
        "**Import package**\n",
        "\n",
        "To use the constant pi, we'll need the math package. Fill in the code to calculate Circumference and Area \n"
      ]
    },
    {
      "cell_type": "code",
      "metadata": {
        "colab": {
          "base_uri": "https://localhost:8080/"
        },
        "id": "AFAF1VW32WMi",
        "outputId": "efca5a5e-4774-44d0-cbdc-946c0ea4062a"
      },
      "source": [
        "# Definition of radius\n",
        "r = 0.43\n",
        "# Import the math package\n",
        "import math \n",
        "\n",
        "# Calculate C\n",
        "C = 2 * math.pi * r\n",
        "\n",
        "# Calculate A\n",
        "A = math.pi * r**2\n",
        "\n",
        "# Build printout\n",
        "print(\"Circumference: \" + str(C))\n",
        "print(\"Area: \" + str(A))"
      ],
      "execution_count": null,
      "outputs": [
        {
          "output_type": "stream",
          "text": [
            "Circumference: 2.701769682087222\n",
            "Area: 0.5808804816487527\n"
          ],
          "name": "stdout"
        }
      ]
    },
    {
      "cell_type": "markdown",
      "metadata": {
        "id": "wWiPI4t42doZ"
      },
      "source": [
        "**Selective import**\n",
        "\n",
        "General imports, make all functionality from package available. However, if need a specific part of a package, you can always make your import more selective:\n",
        "\n",
        "    from math import pi\n",
        "\n",
        "**Instructions**\n",
        "\n",
        "Perform a selective import from the math package where you only import the radians function. Calculate the distance travelled by the Moon over 12 degrees of its orbit. Assign the result to dist. You can calculate this as r * phi, Print out dist.\n"
      ]
    },
    {
      "cell_type": "code",
      "metadata": {
        "colab": {
          "base_uri": "https://localhost:8080/"
        },
        "id": "pIc5L0R92dEy",
        "outputId": "35cb412e-4970-4a3a-89b0-570f7bbec97d"
      },
      "source": [
        "# Definition of radius\n",
        "r = 192500\n",
        "phi = 12\n",
        "# Import radians function of math package\n",
        "from math import radians\n",
        "\n",
        "# Travel distance of Moon over 12 degrees. Store in dist.\n",
        "dist = r * radians(phi)\n",
        "\n",
        "# Print out dist\n",
        "print(dist)"
      ],
      "execution_count": null,
      "outputs": [
        {
          "output_type": "stream",
          "text": [
            "40317.10572106901\n"
          ],
          "name": "stdout"
        }
      ]
    }
  ]
}