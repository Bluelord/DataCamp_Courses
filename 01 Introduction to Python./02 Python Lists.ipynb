{
  "nbformat": 4,
  "nbformat_minor": 0,
  "metadata": {
    "colab": {
      "name": "02 Python Lists.ipynb",
      "provenance": [],
      "collapsed_sections": [],
      "authorship_tag": "ABX9TyNNdgm4Xne+bG0Lbjky4tvz",
      "include_colab_link": true
    },
    "kernelspec": {
      "name": "python3",
      "display_name": "Python 3"
    },
    "language_info": {
      "name": "python"
    }
  },
  "cells": [
    {
      "cell_type": "markdown",
      "metadata": {
        "id": "view-in-github",
        "colab_type": "text"
      },
      "source": [
        "<a href=\"https://colab.research.google.com/github/Bluelord/DataCamp_Courses/blob/main/01%20Introduction%20to%20Python./02%20Python%20Lists.ipynb\" target=\"_parent\"><img src=\"https://colab.research.google.com/assets/colab-badge.svg\" alt=\"Open In Colab\"/></a>"
      ]
    },
    {
      "cell_type": "markdown",
      "metadata": {
        "id": "rB2flqpYT4IV"
      },
      "source": [
        "# Introduction to Python"
      ]
    },
    {
      "cell_type": "markdown",
      "metadata": {
        "id": "y3sOZ6ADT5dM"
      },
      "source": [
        "## **Python Lists**"
      ]
    },
    {
      "cell_type": "markdown",
      "metadata": {
        "id": "Tz6ycTC9W_c1"
      },
      "source": [
        "Learn to store, access, and manipulate data in lists: the first step toward efficiently working with huge amounts of data."
      ]
    },
    {
      "cell_type": "markdown",
      "metadata": {
        "id": "sVuGnacfjN4_"
      },
      "source": [
        "**Create a list**\n",
        "\n",
        "As opposed to int, bool etc., a list is a compound data type; you can group values together:\n",
        "\n",
        "    a = \"is\"\n",
        "    b = \"nice\"\n",
        "    my_list = [\"my\", \"list\", a, b]\n",
        "The areas of the different parts of your house are stored in separate variables for now, as shown in the script.\n",
        "\n",
        "**Instructions**\n",
        "\n",
        "Create a list, areas, that contains the area of the hallway (hall), kitchen (kit), living room (liv), bedroom (bed) and bathroom (bath), in this order. Use the predefined variables. |Print areas with the print() function.\n"
      ]
    },
    {
      "cell_type": "code",
      "metadata": {
        "id": "c1mIci6pT0Gp",
        "colab": {
          "base_uri": "https://localhost:8080/"
        },
        "outputId": "257a660b-f57f-49a9-83d1-5a42e058d138"
      },
      "source": [
        "# area variables (in square meters)\n",
        "hall = 11.25\n",
        "kit = 18.0\n",
        "liv = 20.0\n",
        "bed = 10.75\n",
        "bath = 9.50\n",
        "\n",
        "# Create list areas\n",
        "areas = [hall, kit, liv, bed, bath]\n",
        "\n",
        "# Print areas\n",
        "print(areas)"
      ],
      "execution_count": 1,
      "outputs": [
        {
          "output_type": "stream",
          "text": [
            "[11.25, 18.0, 20.0, 10.75, 9.5]\n"
          ],
          "name": "stdout"
        }
      ]
    },
    {
      "cell_type": "markdown",
      "metadata": {
        "id": "jOBVy6Xrj9QP"
      },
      "source": [
        "**Create list with different types**\n",
        "\n",
        "The con=mmded code in the editor haas some of the areas, the name of the corresponding is already placed in front. It has both string and int.\n",
        "\n",
        "**Instructions**\n",
        "\n",
        "Finished the code has a list so that the list first contains the name of each room as a string and then its area as float."
      ]
    },
    {
      "cell_type": "code",
      "metadata": {
        "colab": {
          "base_uri": "https://localhost:8080/"
        },
        "id": "Y_5zSgPlj5o5",
        "outputId": "1f760166-bd8e-4f8b-e17b-c2c47e0c9a88"
      },
      "source": [
        "# area variables (in square meters)\n",
        "hall = 11.25\n",
        "kit = 18.0\n",
        "liv = 20.0\n",
        "bed = 10.75\n",
        "bath = 9.50\n",
        "\n",
        "# Adapt list areas\n",
        "# areas = [hall, kit, \"living room\", liv, bed, \"bathroom\", bath]\n",
        "areas = [\"hallway\", hall,\"kitchen\",  kit, \"living room\", liv, \"bedroom\", bed, \"bathroom\", bath]\n",
        "\n",
        "# Print areas\n",
        "print(areas)"
      ],
      "execution_count": 2,
      "outputs": [
        {
          "output_type": "stream",
          "text": [
            "['hallway', 11.25, 'kitchen', 18.0, 'living room', 20.0, 'bedroom', 10.75, 'bathroom', 9.5]\n"
          ],
          "name": "stdout"
        }
      ]
    },
    {
      "cell_type": "markdown",
      "metadata": {
        "id": "arqazhu7lzt_"
      },
      "source": [
        "**List of lists**\n",
        "\n",
        "**Instructions**\n",
        "\n",
        "Finish the list of lists so that it also contains the bedroom and bathroom data.\n",
        "Print out house; Print out the type of house."
      ]
    },
    {
      "cell_type": "code",
      "metadata": {
        "colab": {
          "base_uri": "https://localhost:8080/"
        },
        "id": "H4ZX-CbuluSC",
        "outputId": "1b9f17b9-b9b8-4cf3-d113-b09636c2a36c"
      },
      "source": [
        "# area variables (in square meters)\n",
        "hall = 11.25\n",
        "kit = 18.0\n",
        "liv = 20.0\n",
        "bed = 10.75\n",
        "bath = 9.50\n",
        "\n",
        "# house information as list of lists\n",
        "# house = [[\"hallway\", hall],\n",
        "#         [\"kitchen\", kit],\n",
        "#         [\"living room\", liv]]\n",
        "\n",
        "house = [[\"hallway\", hall],\n",
        "         [\"kitchen\", kit],\n",
        "         [\"living room\", liv],\n",
        "         [\"bedroom\", bed],\n",
        "         [\"bathroom\", bath]]\n",
        "\n",
        "# Print out house\n",
        "print(house)\n",
        "\n",
        "# Print out the type of house\n",
        "print(type(house))"
      ],
      "execution_count": 3,
      "outputs": [
        {
          "output_type": "stream",
          "text": [
            "[['hallway', 11.25], ['kitchen', 18.0], ['living room', 20.0], ['bedroom', 10.75], ['bathroom', 9.5]]\n",
            "<class 'list'>\n"
          ],
          "name": "stdout"
        }
      ]
    },
    {
      "cell_type": "markdown",
      "metadata": {
        "id": "Gm04CQj7oBKI"
      },
      "source": [
        "**Subset and conquer**\n",
        "\n",
        "Take the code sample below, created a list x and then selects \"b\". **Note: This is the second element (index starts from 0).\n",
        "\n",
        "    x = [\"a\", \"b\", \"c\", \"d\"]\n",
        "    x[1]\n",
        "    x[-3] # same result!\n",
        "\n",
        "**Instructions**\n",
        "\n",
        "Print out the second element from the areas list. Subset and print out the last element of areas, Using a negative index. Select the number representing the area of the living room (20.0) and print it out."
      ]
    },
    {
      "cell_type": "code",
      "metadata": {
        "colab": {
          "base_uri": "https://localhost:8080/"
        },
        "id": "dSMZQngJn4rY",
        "outputId": "ddf87b53-6afe-44f4-926c-c37ae6dcaa58"
      },
      "source": [
        "# Create the areas list\n",
        "areas = [\"hallway\", 11.25, \"kitchen\", 18.0, \"living room\", 20.0, \"bedroom\", 10.75, \"bathroom\", 9.50]\n",
        "\n",
        "# Print out second element from areas\n",
        "print(areas[1])\n",
        "\n",
        "# Print out last element from areas\n",
        "print(areas[-1])\n",
        "\n",
        "# Print out the area of the living room\n",
        "print(areas[4:6])"
      ],
      "execution_count": 4,
      "outputs": [
        {
          "output_type": "stream",
          "text": [
            "11.25\n",
            "9.5\n",
            "['living room', 20.0]\n"
          ],
          "name": "stdout"
        }
      ]
    },
    {
      "cell_type": "markdown",
      "metadata": {
        "id": "vb7vOmRrpr2n"
      },
      "source": [
        "**Subset and calculate**\n",
        "\n",
        "Take an example, where 2nd & 4th element of list x are extracted. The strings that result are pasted together using the + operator:\n",
        "\n",
        "    x = [\"a\", \"b\", \"c\", \"d\"]\n",
        "    print(x[1] + x[3])\n",
        "\n",
        "    bd\n",
        "\n",
        "**Instructions**\n",
        "\n",
        "Create a new variable, eat_sleep_area, that contains the sum of the area of the kitchen and the area of the bedroom."
      ]
    },
    {
      "cell_type": "code",
      "metadata": {
        "colab": {
          "base_uri": "https://localhost:8080/"
        },
        "id": "_OXwHbg4pWDS",
        "outputId": "3d459509-05a7-43d5-b9d4-5000ec37ac23"
      },
      "source": [
        "# Create the areas list\n",
        "areas = [\"hallway\", 11.25, \"kitchen\", 18.0, \"living room\", 20.0, \"bedroom\", 10.75, \"bathroom\", 9.50]\n",
        "\n",
        "# Sum of kitchen and bedroom area: eat_sleep_area\n",
        "eat_sleep_area = areas[3] + areas[7]\n",
        "\n",
        "# Print the variable eat_sleep_area\n",
        "print(eat_sleep_area)"
      ],
      "execution_count": 5,
      "outputs": [
        {
          "output_type": "stream",
          "text": [
            "28.75\n"
          ],
          "name": "stdout"
        }
      ]
    },
    {
      "cell_type": "markdown",
      "metadata": {
        "id": "z4mTqOEAq5LA"
      },
      "source": [
        "**Slicing and dicing**\n",
        "\n",
        "Slice a list, means selecting multiple elements from a list. Use the following syntax:\n",
        "\n",
        "    my_list[start:end] # The start index will be included, while the end index is not.\n",
        "\n",
        "**Instructions*\n",
        "\n",
        "Use slicing to create a list, downstairs, that contains the first 6 elements of areas. Create a new variable, upstairs, that contains the last 4 elements of areas. Print both downstairs and upstairs using print()."
      ]
    },
    {
      "cell_type": "code",
      "metadata": {
        "colab": {
          "base_uri": "https://localhost:8080/"
        },
        "id": "0gPMYyerqzbi",
        "outputId": "07e858cd-f856-4c0a-a226-91cca787a530"
      },
      "source": [
        "# Create the areas list\n",
        "areas = [\"hallway\", 11.25, \"kitchen\", 18.0, \"living room\", 20.0, \"bedroom\", 10.75, \"bathroom\", 9.50]\n",
        "\n",
        "# Use slicing to create downstairs\n",
        "downstairs = areas[:6]\n",
        "\n",
        "# Use slicing to create upstairs\n",
        "upstairs = areas[6:]\n",
        "\n",
        "# Print out downstairs and upstairs\n",
        "print(downstairs, upstairs)"
      ],
      "execution_count": 6,
      "outputs": [
        {
          "output_type": "stream",
          "text": [
            "['hallway', 11.25, 'kitchen', 18.0, 'living room', 20.0] ['bedroom', 10.75, 'bathroom', 9.5]\n"
          ],
          "name": "stdout"
        }
      ]
    },
    {
      "cell_type": "markdown",
      "metadata": {
        "id": "jlCSeYdHrvnQ"
      },
      "source": [
        "**Replace list elements**\n",
        "\n",
        "Replacing involves subseting the list and assign new values to the subset. You can select single elements or you can change entire list slices.\n",
        "\n",
        "    x = [\"a\", \"b\", \"c\", \"d\"]\n",
        "    x[1] = \"r\"\n",
        "    x[2:] = [\"s\", \"t\"]\n",
        "    \n",
        "    ['a', 'r', 's', 't']\n",
        "\n",
        "\n",
        "**Instructions**\n",
        "\n",
        "Update the area of the bathroom area to be 10.50 instead of 9.50. Change \"living room\" to \"chill zone\"."
      ]
    },
    {
      "cell_type": "code",
      "metadata": {
        "colab": {
          "base_uri": "https://localhost:8080/"
        },
        "id": "nZhdETEurjbh",
        "outputId": "e98d0d6d-7fb6-40d7-cb2e-507692fbd516"
      },
      "source": [
        "# Create the areas list\n",
        "areas = [\"hallway\", 11.25, \"kitchen\", 18.0, \"living room\", 20.0, \"bedroom\", 10.75, \"bathroom\", 9.50]\n",
        "\n",
        "# Correct the bathroom area\n",
        "areas[-1] = 10.5\n",
        "\n",
        "# Change \"living room\" to \"chill zone\"\n",
        "areas[4] = \"chill zone\"\n",
        "\n",
        "print(areas)\n"
      ],
      "execution_count": 9,
      "outputs": [
        {
          "output_type": "stream",
          "text": [
            "['hallway', 11.25, 'kitchen', 18.0, 'chill zone', 20.0, 'bedroom', 10.75, 'bathroom', 10.5]\n"
          ],
          "name": "stdout"
        }
      ]
    },
    {
      "cell_type": "markdown",
      "metadata": {
        "id": "81KrDiHbs2AY"
      },
      "source": [
        "**Extend a list**\n",
        "\n",
        "Add elements to it, using the + operator:\n",
        "\n",
        "    x = [\"a\", \"b\", \"c\", \"d\"]\n",
        "    y = x + [\"e\", \"f\"]\n",
        "\n",
        "    [\"a\", \"b\", \"c\", \"d\", \"e\", \"f\"]\n",
        "\n",
        "We can also remove elements from your list. You can do this with the del statement:\n",
        "\n",
        "    x = [\"a\", \"b\", \"c\", \"d\"]\n",
        "    del(x[1])\n",
        "\n",
        "    [\"a\", \"c\", \"d\"]\n",
        "\n",
        "**Instructions**\n",
        "\n",
        "Use the + operator to paste the list [\"poolhouse\", 24.5] to the end of the areas list. Store the resulting list as areas_1. Further extend areas_1 by adding data on your garage. Add the string \"garage\" and float 15.45. Name the resulting list areas_2."
      ]
    },
    {
      "cell_type": "code",
      "metadata": {
        "colab": {
          "base_uri": "https://localhost:8080/"
        },
        "id": "d5OM1ixNspR9",
        "outputId": "01a3c269-92fc-4e57-dc9d-09a9ac16b0d3"
      },
      "source": [
        "# Create the areas list and make some changes\n",
        "areas = [\"hallway\", 11.25, \"kitchen\", 18.0, \"chill zone\", 20.0,\n",
        "         \"bedroom\", 10.75, \"bathroom\", 10.50]\n",
        "\n",
        "# Add poolhouse data to areas, new list is areas_1\n",
        "areas_1 = areas + [\"poolhouse\", 24.5]\n",
        "\n",
        "# Add garage data to areas_1, new list is areas_2\n",
        "areas_2 = areas_1 + [\"garage\", 15.45]\n",
        "\n",
        "print(areas, '\\n',areas_1,'\\n', areas_2)"
      ],
      "execution_count": 14,
      "outputs": [
        {
          "output_type": "stream",
          "text": [
            "['hallway', 11.25, 'kitchen', 18.0, 'chill zone', 20.0, 'bedroom', 10.75, 'bathroom', 10.5] \n",
            " ['hallway', 11.25, 'kitchen', 18.0, 'chill zone', 20.0, 'bedroom', 10.75, 'bathroom', 10.5, 'poolhouse', 24.5] \n",
            " ['hallway', 11.25, 'kitchen', 18.0, 'chill zone', 20.0, 'bedroom', 10.75, 'bathroom', 10.5, 'poolhouse', 24.5, 'garage', 15.45]\n"
          ],
          "name": "stdout"
        }
      ]
    },
    {
      "cell_type": "markdown",
      "metadata": {
        "id": "NhQUbE06uIuw"
      },
      "source": [
        "**Inner workings of lists**\n",
        "\n",
        "The Python code in the script already creates a list with the name areas and a copy named areas_copy. Next, the first element in the areas_copy list is changed and the areas list is printed out. If you hit Run Code you'll see that, although you've changed areas_copy, the change also takes effect in the areas list. That's because areas and areas_copy point to the same list.\n",
        "\n",
        "If you want to prevent changes in areas_copy from also taking effect in areas, you'll have to do a more explicit copy of the areas list. You can do this with list() or by using [:].\n"
      ]
    },
    {
      "cell_type": "code",
      "metadata": {
        "colab": {
          "base_uri": "https://localhost:8080/"
        },
        "id": "mNzl2OpputO_",
        "outputId": "0b89f828-efd0-4923-b65f-cd5a25648e2b"
      },
      "source": [
        "areas = [11.25, 18.0, 20.0, 10.75, 9.50]\n",
        "\n",
        "# Create areas_copy\n",
        "areas_copy = areas\n",
        "\n",
        "# Change areas_copy\n",
        "areas_copy[0] = 5.0\n",
        "\n",
        "# Print areas\n",
        "print(areas,'\\n', areas_copy)"
      ],
      "execution_count": 16,
      "outputs": [
        {
          "output_type": "stream",
          "text": [
            "[5.0, 18.0, 20.0, 10.75, 9.5] \n",
            " [5.0, 18.0, 20.0, 10.75, 9.5]\n"
          ],
          "name": "stdout"
        }
      ]
    },
    {
      "cell_type": "code",
      "metadata": {
        "colab": {
          "base_uri": "https://localhost:8080/"
        },
        "id": "GwNVzreCtatC",
        "outputId": "34a2172b-821c-4850-ed7d-682b618ae1b3"
      },
      "source": [
        "areas = [11.25, 18.0, 20.0, 10.75, 9.50]\n",
        "\n",
        "# Create areas_copy\n",
        "areas_copy = list(areas)\n",
        "\n",
        "# Change areas_copy\n",
        "areas_copy[0] = 5.0\n",
        "\n",
        "# Print areas\n",
        "print(areas,'\\n', areas_copy)"
      ],
      "execution_count": 15,
      "outputs": [
        {
          "output_type": "stream",
          "text": [
            "[11.25, 18.0, 20.0, 10.75, 9.5] \n",
            " [5.0, 18.0, 20.0, 10.75, 9.5]\n"
          ],
          "name": "stdout"
        }
      ]
    }
  ]
}