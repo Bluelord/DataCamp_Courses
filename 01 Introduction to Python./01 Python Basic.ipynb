{
  "nbformat": 4,
  "nbformat_minor": 0,
  "metadata": {
    "colab": {
      "name": "01 Python Basic.ipynb",
      "provenance": [],
      "authorship_tag": "ABX9TyO+0hnLW7FeTgh8cGDatbt3",
      "include_colab_link": true
    },
    "kernelspec": {
      "name": "python3",
      "display_name": "Python 3"
    },
    "language_info": {
      "name": "python"
    }
  },
  "cells": [
    {
      "cell_type": "markdown",
      "metadata": {
        "id": "view-in-github",
        "colab_type": "text"
      },
      "source": [
        "<a href=\"https://colab.research.google.com/github/Bluelord/DataCamp_Courses/blob/main/01%20Introduction%20to%20Python./01%20Python%20Basic.ipynb\" target=\"_parent\"><img src=\"https://colab.research.google.com/assets/colab-badge.svg\" alt=\"Open In Colab\"/></a>"
      ]
    },
    {
      "cell_type": "markdown",
      "metadata": {
        "id": "vtDu6IbRGMkD"
      },
      "source": [
        "# Introduction to Python"
      ]
    },
    {
      "cell_type": "markdown",
      "metadata": {
        "id": "wYCAtIf8GflC"
      },
      "source": [
        "## **Python Basics**"
      ]
    },
    {
      "cell_type": "markdown",
      "metadata": {
        "id": "Ls83TQe8GDyk"
      },
      "source": [
        "An introduction to the basic concepts of Python. Learn how to use Python interactively and by using a script. Create your first variables and acquaint yourself with Python's basic data types."
      ]
    },
    {
      "cell_type": "markdown",
      "metadata": {
        "id": "O8nh3iOFHIDb"
      },
      "source": [
        "**The Python Interface**\n",
        "\n",
        "In the Python script on the right in DataCamp course, you can type Python code to solve the exercises. Clicking on Run Code or Submit Answer, will shown output in the IPython Shell. Submit Answer checks whether your submission is correct. You can also use the IPython Shell interactively by simply typing commands and hitting Enter. When you work in the shell directly, your code will not be checked for correctness so it is a great way to experiment.\n",
        "\n",
        "**Instructions**\n",
        "\n",
        "*   Experiment in the IPython Shell; type 5 / 8, for example.\n",
        "*   Add another line of code to the Python script on the top-right (not in the Shell): print(7 + 10)."
      ]
    },
    {
      "cell_type": "code",
      "metadata": {
        "colab": {
          "base_uri": "https://localhost:8080/"
        },
        "id": "feHVyrTZFCef",
        "outputId": "e3f6ee22-8c43-465d-a1b4-c0c90034742e"
      },
      "source": [
        "# Example, do not modify!\n",
        "print(5 / 8)\n",
        "\n",
        "# Print the sum of 7 and 10\n",
        "x = 7\n",
        "y = 10\n",
        "print(\"Sum of x and y is: {}\" .format(x + y))"
      ],
      "execution_count": null,
      "outputs": [
        {
          "output_type": "stream",
          "text": [
            "0.625\n",
            "Sum of x and y is: 17\n"
          ],
          "name": "stdout"
        }
      ]
    },
    {
      "cell_type": "markdown",
      "metadata": {
        "id": "nA44EvW4Jj7z"
      },
      "source": [
        "**Comments**\n",
        "\n",
        "You can add comments to your Python scripts. Comments are important to make sure that you and others can understand what your code is about. To add comments to your Python script, you can use the **# tag**. These comments are not run as Python code, so they will not influence your result. As an example,\n",
        "    # Division\n",
        "    print(5 / 8)\n",
        "    \n",
        "    # Addition\n",
        "    print(7 + 10)"
      ]
    },
    {
      "cell_type": "markdown",
      "metadata": {
        "id": "HC9y4-32KZ38"
      },
      "source": [
        "**Python as a calculator**\n",
        "\n",
        "Python is perfectly suited to do basic calculations. Apart from addition, subtraction, multiplication and division, there is also support for more advanced operations such as: Exponentiation: **. Modulo: %.\n",
        "\n",
        "**Instructions**\n",
        "\n",
        "Suppose you have 100 dollars, which you can invest with a 10% return each year. After one year, it's $100 * 1.1 $ dollars, and after two years it's $100 * 1.1 *1.1 $. Add code to calculate how much money you end up with after 7 years, and print the result."
      ]
    },
    {
      "cell_type": "code",
      "metadata": {
        "colab": {
          "base_uri": "https://localhost:8080/"
        },
        "id": "QKUGL8agJHhV",
        "outputId": "1d45f33e-870f-40f6-ee8d-63b301d99e89"
      },
      "source": [
        "# Addition, subtraction\n",
        "print(5 + 5)\n",
        "print(5 - 5)\n",
        "# Multiplication, division, modulo, and exponentiation\n",
        "print(3 * 5)\n",
        "print(10 / 2)\n",
        "print(18 % 7)\n",
        "print(4 ** 2)\n",
        "\n",
        "# How much is your $100 worth after 7 years?\n",
        "initial_amount = 100\n",
        "years = 7\n",
        "# Final Amount after n years with 10% interest\n",
        "final_amount = initial_amount * (1.1 ** years)\n",
        "print('Final amount after', years, 'years is', final_amount)"
      ],
      "execution_count": null,
      "outputs": [
        {
          "output_type": "stream",
          "text": [
            "10\n",
            "0\n",
            "15\n",
            "5.0\n",
            "4\n",
            "16\n",
            "Final amount after 7 years is 194.87171000000012\n"
          ],
          "name": "stdout"
        }
      ]
    },
    {
      "cell_type": "markdown",
      "metadata": {
        "id": "Rmk_EqABLo7T"
      },
      "source": [
        "**Variable Assignment**\n",
        "\n",
        "In Python, a variable allows you to refer to a value with a name. To create a variable use =, like this example: x = 5\n",
        "You can now use the name of this variable, x, instead of the actual value, 5.\n",
        "*Note, = in Python means assignment, it doesn't test equality!*\n",
        "\n",
        "**Instructions**\n",
        "\n",
        "Create a variable *savings* with the value 100. Check out this variable by typing print(savings) in the script."
      ]
    },
    {
      "cell_type": "code",
      "metadata": {
        "colab": {
          "base_uri": "https://localhost:8080/"
        },
        "id": "-I5Rg1dfLYB9",
        "outputId": "60f00091-b383-4f88-99c2-40cbc8907b73"
      },
      "source": [
        "# Create a variable savings\n",
        "savings  = 100\n",
        "# Print out savings\n",
        "print(savings)"
      ],
      "execution_count": null,
      "outputs": [
        {
          "output_type": "stream",
          "text": [
            "100\n"
          ],
          "name": "stdout"
        }
      ]
    },
    {
      "cell_type": "markdown",
      "metadata": {
        "id": "_luNYZYoMtME"
      },
      "source": [
        "**Calculations with variables**\n",
        "\n",
        "Calculate the money ended up with after 7 years. $100 * 1.1 ** 7$. Instead of calculating with the actual values, use variables.\n",
        "\n",
        "**Instructions**\n",
        "\n",
        "\n",
        "*   Create a variable growth_multiplier, equal to 1.1.\n",
        "*   Create a variable, result, equal to the amount of money you saved after 7 years. Print out the value of result"
      ]
    },
    {
      "cell_type": "code",
      "metadata": {
        "colab": {
          "base_uri": "https://localhost:8080/"
        },
        "id": "S6GNUQMKMnYP",
        "outputId": "e9c95b06-df83-4b61-a4dd-31a5b3e2a2f5"
      },
      "source": [
        "# Create a variable savings\n",
        "savings = 100\n",
        "# Create a variable growth_multiplier\n",
        "growth_multiplier = 1.1\n",
        "years = 7\n",
        "# Calculate result\n",
        "result = savings * (growth_multiplier ** years )\n",
        "# Print out result\n",
        "print (result)"
      ],
      "execution_count": null,
      "outputs": [
        {
          "output_type": "stream",
          "text": [
            "194.87171000000012\n"
          ],
          "name": "stdout"
        }
      ]
    },
    {
      "cell_type": "markdown",
      "metadata": {
        "id": "Pojt8oIOOsJL"
      },
      "source": [
        "**Operations with other types**\n",
        "\n",
        "When you sum two strings, for example, you'll get different behavior than when you sum two integers or two booleans.\n",
        "\n",
        "**Instructions**\n",
        "\n",
        "\n",
        "*   Calculate the product of savings and growth_multiplier. Store the result in year1. printing out the type of year1.\n",
        "*   Calculate the sum of desc and desc and store the result in a new variable doubledesc. Print out doubledesc.\n"
      ]
    },
    {
      "cell_type": "code",
      "metadata": {
        "colab": {
          "base_uri": "https://localhost:8080/"
        },
        "id": "EZyg6KMLOZl_",
        "outputId": "bb47197f-b192-447f-c5c6-14efa7acfaf1"
      },
      "source": [
        "savings = 100\n",
        "growth_multiplier = 1.1\n",
        "desc = \"compound interest\"\n",
        "\n",
        "# Assign product of growth_multiplier and savings to year1\n",
        "year1 = savings * (growth_multiplier ** 1)\n",
        "\n",
        "# Print the type of year1\n",
        "print(\"Type of compount interest is: {}\" .format(type(year1)))\n",
        "\n",
        "# Assign sum of desc and desc to doubledesc\n",
        "doubledesc = desc + desc\n",
        "\n",
        "# Print out doubledesc\n",
        "print(doubledesc)"
      ],
      "execution_count": null,
      "outputs": [
        {
          "output_type": "stream",
          "text": [
            "Type of compount interest is: <class 'float'>\n",
            "compound interestcompound interest\n"
          ],
          "name": "stdout"
        }
      ]
    },
    {
      "cell_type": "markdown",
      "metadata": {
        "id": "xRoXUsXAPWiE"
      },
      "source": [
        "**Type conversion**\n",
        "\n",
        "Using the + operator to paste together two strings can be very useful in building custom messages. Suppose, we want to summarize the results in a string. Assuming the integer savings and float result are defined, you can try something like this: print(\"I started with\" + savings + \" and now have \" + result + \". Awesome!\") **This will not work, though, as you cannot simply sum strings and integers/floats.**\n",
        "\n",
        "To fix the error, we need to explicitly convert the types of the variables. More specifically, you'll need **str()**, to convert a value into a string. str(savings), will convert the integer savings to a string. Similarly int(), float() and bool() will help you convert Python values into any type.\n",
        "\n",
        "**Instructions**\n",
        "\n",
        "Comment line shows the error code. Fixed code printout without errors; use the function str() to convert the variables to strings. Convert the variable pi_string to a float and store this float as a new variable, pi_float and print it's type."
      ]
    },
    {
      "cell_type": "code",
      "metadata": {
        "colab": {
          "base_uri": "https://localhost:8080/"
        },
        "id": "9l-7yhscPJBX",
        "outputId": "0d785628-1256-427e-d37f-91b66f79d3f6"
      },
      "source": [
        "# Definition of savings and result\n",
        "savings = 100\n",
        "result = 100 * 1.10 ** 7\n",
        "\n",
        "# Fix the printout\n",
        "#print(\"I started with $\" + savings + \" and now have $\" + result + \". Awesome!\")\n",
        "print(\"I started with $\" + str(savings) + \" and now have $\" + str(result) + \". Awesome!\")\n",
        "\n",
        "# Definition of pi_string\n",
        "pi_string = \"3.1415926\"\n",
        "\n",
        "# Convert pi_string into float: pi_float\n",
        "pi_float = float(pi_string)\n",
        "print(type(pi_float))"
      ],
      "execution_count": null,
      "outputs": [
        {
          "output_type": "stream",
          "text": [
            "I started with $100 and now have $194.87171000000012. Awesome!\n",
            "<class 'float'>\n"
          ],
          "name": "stdout"
        }
      ]
    }
  ]
}