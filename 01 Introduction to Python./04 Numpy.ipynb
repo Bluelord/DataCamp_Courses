{
  "nbformat": 4,
  "nbformat_minor": 0,
  "metadata": {
    "colab": {
      "name": "04 Numpy.ipynb",
      "provenance": [],
      "authorship_tag": "ABX9TyOuFyihrkyUMP5gCu2VcSqJ",
      "include_colab_link": true
    },
    "kernelspec": {
      "name": "python3",
      "display_name": "Python 3"
    },
    "language_info": {
      "name": "python"
    }
  },
  "cells": [
    {
      "cell_type": "markdown",
      "metadata": {
        "id": "view-in-github",
        "colab_type": "text"
      },
      "source": [
        "<a href=\"https://colab.research.google.com/github/Bluelord/DataCamp_Courses/blob/main/01%20Introduction%20to%20Python./04%20Numpy.ipynb\" target=\"_parent\"><img src=\"https://colab.research.google.com/assets/colab-badge.svg\" alt=\"Open In Colab\"/></a>"
      ]
    },
    {
      "cell_type": "markdown",
      "metadata": {
        "id": "2SaBfQa52t1D"
      },
      "source": [
        "# Introduction to Python"
      ]
    },
    {
      "cell_type": "markdown",
      "metadata": {
        "id": "oSORU8vD2woR"
      },
      "source": [
        "## **Numpy**"
      ]
    },
    {
      "cell_type": "markdown",
      "metadata": {
        "id": "rEe0KJa122Ca"
      },
      "source": [
        "NumPy is a fundamental Python package to efficiently practice data science. Learn to work with powerful tools in the NumPy array, and get started with data exploration."
      ]
    },
    {
      "cell_type": "markdown",
      "metadata": {
        "id": "KtoOA7Az23tx"
      },
      "source": [
        "**First NumPy Array**\n",
        "\n",
        "A list baseball has already been defined in the Python script, representing heights of some baseball players in cm.\n",
        "\n",
        "**Instructions**\n",
        "\n",
        "Import the numpy package as np, so that you can refer to numpy with np.\n",
        "Use np.array() to create a numpy array from baseball. Name this array np_baseball. Print out the type of np_baseball to check that you got it right."
      ]
    },
    {
      "cell_type": "code",
      "metadata": {
        "colab": {
          "base_uri": "https://localhost:8080/"
        },
        "id": "xflMof8G2ozu",
        "outputId": "0daf2550-5805-430e-af3e-6eceb000220f"
      },
      "source": [
        "# Create list baseball\n",
        "baseball = [180, 215, 210, 210, 188, 176, 209, 200]\n",
        "\n",
        "# Import the numpy package as np\n",
        "import numpy as np\n",
        "\n",
        "# Create a numpy array from baseball: np_baseball\n",
        "np_baseball = np.array(baseball)\n",
        "\n",
        "# Print out type of np_baseball\n",
        "print(type(np_baseball))"
      ],
      "execution_count": 71,
      "outputs": [
        {
          "output_type": "stream",
          "text": [
            "<class 'numpy.ndarray'>\n"
          ],
          "name": "stdout"
        }
      ]
    },
    {
      "cell_type": "code",
      "metadata": {
        "id": "Ou-dBwEaREyf"
      },
      "source": [
        "import pandas as pd\n",
        "url = 'https://assets.datacamp.com/production/repositories/288/datasets/e5d60ff535f86d27609312f9e41c35a1d737ddc0/baseball.csv'\n",
        "dataframe = pd.read_csv(url)\n",
        "\n",
        "height_in = dataframe.iloc[:,3]\n",
        "weight_lb = dataframe.iloc[:,4]\n",
        "baseball = dataframe.iloc[:,3:5]"
      ],
      "execution_count": 72,
      "outputs": []
    },
    {
      "cell_type": "code",
      "metadata": {
        "colab": {
          "base_uri": "https://localhost:8080/"
        },
        "id": "mbZgyHXnNut5",
        "outputId": "63dead88-5bb7-4445-cb9c-1010f3074b58"
      },
      "source": [
        "# height is available as a regular list\n",
        "\n",
        "# Import numpy\n",
        "import numpy as np\n",
        "\n",
        "# Create a numpy array from height_in: np_height_in\n",
        "np_height_in = np.array(height_in)\n",
        "\n",
        "# Print out np_height_in\n",
        "print(np_height_in)\n",
        "\n",
        "# Convert np_height_in to m: np_height_m\n",
        "np_height_m = np_height_in * 0.0254\n",
        "\n",
        "# Print np_height_m\n",
        "print(np_height_m)"
      ],
      "execution_count": 73,
      "outputs": [
        {
          "output_type": "stream",
          "text": [
            "[74 74 72 ... 75 75 73]\n",
            "[1.8796 1.8796 1.8288 ... 1.905  1.905  1.8542]\n"
          ],
          "name": "stdout"
        }
      ]
    },
    {
      "cell_type": "code",
      "metadata": {
        "colab": {
          "base_uri": "https://localhost:8080/"
        },
        "id": "-bTqHIhRQjgY",
        "outputId": "caab09c4-307a-47ac-9442-a11b084a22c3"
      },
      "source": [
        "# height and weight are available as regular lists\n",
        "\n",
        "# Import numpy\n",
        "import numpy as np\n",
        "\n",
        "# Create array from height_in with metric units: np_height_m\n",
        "np_height_m = np.array(height_in) * 0.0254\n",
        "\n",
        "# Create array from weight_lb with metric units: np_weight_kg\n",
        "np_weight_kg = np.array(weight_lb) * 0.453592\n",
        "\n",
        "# Calculate the BMI: bmi\n",
        "bmi = np_weight_kg / np_height_m **2\n",
        "\n",
        "# Print out bmi\n",
        "print(bmi)"
      ],
      "execution_count": 74,
      "outputs": [
        {
          "output_type": "stream",
          "text": [
            "[23.11037639 27.60406069 28.48080465 ... 25.62295933 23.74810865\n",
            " 25.72686361]\n"
          ],
          "name": "stdout"
        }
      ]
    },
    {
      "cell_type": "code",
      "metadata": {
        "colab": {
          "base_uri": "https://localhost:8080/"
        },
        "id": "s2RFs6W5Qly2",
        "outputId": "de812ac8-3b73-4924-9f50-4779aa1a9f87"
      },
      "source": [
        "# height and weight are available as a regular lists\n",
        "\n",
        "# Import numpy\n",
        "import numpy as np\n",
        "\n",
        "# Calculate the BMI: bmi\n",
        "np_height_m = np.array(height_in) * 0.0254\n",
        "np_weight_kg = np.array(weight_lb) * 0.453592\n",
        "bmi = np_weight_kg / np_height_m ** 2\n",
        "\n",
        "# Create the light array\n",
        "light = bmi < 21\n",
        "\n",
        "# Print out light\n",
        "print(light)\n",
        "\n",
        "# Print out BMIs of all baseball players whose BMI is below 21\n",
        "print(bmi[light])"
      ],
      "execution_count": 75,
      "outputs": [
        {
          "output_type": "stream",
          "text": [
            "[False False False ... False False False]\n",
            "[20.54255679 20.54255679 20.69282047 20.69282047 20.34343189 20.34343189\n",
            " 20.69282047 20.15883472 19.4984471  20.69282047 20.9205219 ]\n"
          ],
          "name": "stdout"
        }
      ]
    },
    {
      "cell_type": "code",
      "metadata": {
        "colab": {
          "base_uri": "https://localhost:8080/"
        },
        "id": "DOQZKu6Sa1Cn",
        "outputId": "0a56c230-d704-4dc9-93c8-05250aaa7a18"
      },
      "source": [
        "# height and weight are available as a regular lists\n",
        "\n",
        "# Import numpy\n",
        "import numpy as np\n",
        "\n",
        "# Store weight and height lists as numpy arrays\n",
        "np_weight_lb = np.array(weight_lb)\n",
        "np_height_in = np.array(height_in)\n",
        "\n",
        "# Print out the weight at index 50\n",
        "print(np_weight_lb[50])\n",
        "\n",
        "# Print out sub-array of np_height_in: index 100 up to and including index 110\n",
        "print(np_height_in[100:111])"
      ],
      "execution_count": 76,
      "outputs": [
        {
          "output_type": "stream",
          "text": [
            "200\n",
            "[73 74 72 73 69 72 73 75 75 73 72]\n"
          ],
          "name": "stdout"
        }
      ]
    },
    {
      "cell_type": "code",
      "metadata": {
        "colab": {
          "base_uri": "https://localhost:8080/"
        },
        "id": "beL6h-qKb1ZS",
        "outputId": "61d10357-e1bb-476d-b1c3-4fd6572a6dd7"
      },
      "source": [
        "# Create baseball, a list of lists\n",
        "baseball1 = [[180, 78.4],\n",
        "            [215, 102.7],\n",
        "            [210, 98.5],\n",
        "            [188, 75.2]]\n",
        "\n",
        "# Import numpy\n",
        "import numpy as np\n",
        "\n",
        "# Create a 2D numpy array from baseball: np_baseball\n",
        "np_baseball = np.array(baseball1 )\n",
        "\n",
        "# Print out the type of np_baseball\n",
        "print(type(np_baseball))\n",
        "\n",
        "# Print out the shape of np_baseball\n",
        "print(np_baseball.shape)"
      ],
      "execution_count": 77,
      "outputs": [
        {
          "output_type": "stream",
          "text": [
            "<class 'numpy.ndarray'>\n",
            "(4, 2)\n"
          ],
          "name": "stdout"
        }
      ]
    },
    {
      "cell_type": "code",
      "metadata": {
        "colab": {
          "base_uri": "https://localhost:8080/"
        },
        "id": "ZGMFYN2OcGzG",
        "outputId": "1c99755a-f1de-4b2d-eb8e-6f0bc2880080"
      },
      "source": [
        "# baseball is available as a regular list of lists\n",
        "\n",
        "# Import numpy package\n",
        "import numpy as np\n",
        "\n",
        "# Create a 2D numpy array from baseball: np_baseball\n",
        "np_baseball = np.array(baseball)\n",
        "\n",
        "# Print out the shape of np_baseball\n",
        "print(np_baseball.shape)"
      ],
      "execution_count": 78,
      "outputs": [
        {
          "output_type": "stream",
          "text": [
            "(1015, 2)\n"
          ],
          "name": "stdout"
        }
      ]
    },
    {
      "cell_type": "markdown",
      "metadata": {
        "id": "eAhojZY5d6Ky"
      },
      "source": [
        "**Subsetting 2D NumPy Arrays**\n",
        "\n",
        "If your 2D numpy array has a regular structure, i.e. each row and column has a fixed number of values.\n",
        "\n",
        "    # regular list of lists\n",
        "    x = [[\"a\", \"b\"], [\"c\", \"d\"]]\n",
        "    [x[0][0], x[1][0]]\n",
        "\n",
        "    # numpy\n",
        "    import numpy as np\n",
        "    np_x = np.array(x)\n",
        "    np_x[:,0]\n",
        "\n",
        "The indexes before the comma refer to the rows, while after the comma refer to the columns.\n",
        "\n"
      ]
    },
    {
      "cell_type": "code",
      "metadata": {
        "colab": {
          "base_uri": "https://localhost:8080/"
        },
        "id": "2u1XcbJ0cKXR",
        "outputId": "dcd5dbe9-cd01-420f-9670-5338b48ed737"
      },
      "source": [
        "# baseball is available as a regular list of lists\n",
        "\n",
        "# Import numpy package\n",
        "import numpy as np\n",
        "\n",
        "# Create np_baseball (2 cols)\n",
        "np_baseball = np.array(baseball)\n",
        "\n",
        "# Print out the 50th row of np_baseball\n",
        "print(np_baseball[49])\n",
        "\n",
        "# Select the entire second column of np_baseball: np_weight_lb\n",
        "np_weight_lb = np_baseball[:,1]\n",
        "\n",
        "# Print out height of 124th player\n",
        "print(np_baseball[123][0])"
      ],
      "execution_count": 79,
      "outputs": [
        {
          "output_type": "stream",
          "text": [
            "[ 70 195]\n",
            "75\n"
          ],
          "name": "stdout"
        }
      ]
    },
    {
      "cell_type": "code",
      "metadata": {
        "colab": {
          "base_uri": "https://localhost:8080/"
        },
        "id": "wpILu6UGc9uG",
        "outputId": "e759da8c-5f9c-4533-ff0c-08faf416a035"
      },
      "source": [
        "# baseball is available as a regular list of lists\n",
        "baseball = dataframe.iloc[:,3:6]\n",
        "# updated is available as 2D numpy array\n",
        "\n",
        "# Import numpy package\n",
        "import numpy as np\n",
        "\n",
        "# Create np_baseball (3 cols)\n",
        "np_baseball = np.array(baseball)\n",
        "np_baseball.shape\n",
        "\n",
        "\n",
        "# Create numpy array: conversion\n",
        "conversion = np.array([0.0254, 0.453592, 1.0])\n",
        "\n",
        "# Print out product of np_baseball and conversion\n",
        "print(np_baseball * conversion)"
      ],
      "execution_count": 80,
      "outputs": [
        {
          "output_type": "stream",
          "text": [
            "[[ 1.8796  81.64656 22.99   ]\n",
            " [ 1.8796  97.52228 34.69   ]\n",
            " [ 1.8288  95.25432 30.78   ]\n",
            " ...\n",
            " [ 1.905   92.98636 25.19   ]\n",
            " [ 1.905   86.18248 31.01   ]\n",
            " [ 1.8542  88.45044 27.92   ]]\n"
          ],
          "name": "stdout"
        }
      ]
    },
    {
      "cell_type": "code",
      "metadata": {
        "colab": {
          "base_uri": "https://localhost:8080/"
        },
        "id": "9WxoEifLdNn6",
        "outputId": "60dd113c-a8d7-4293-c53a-a8c4550358f9"
      },
      "source": [
        "# np_baseball is available\n",
        "\n",
        "# Import numpy\n",
        "import numpy as np\n",
        "\n",
        "# Create np_height_in from np_baseball\n",
        "np_height_in = np_baseball[:,0]\n",
        "\n",
        "# Print out the mean of np_height_in\n",
        "print(np.mean(np_height_in))\n",
        "\n",
        "# Print out the median of np_height_in\n",
        "print(np.median(np_height_in))"
      ],
      "execution_count": 81,
      "outputs": [
        {
          "output_type": "stream",
          "text": [
            "73.6896551724138\n",
            "74.0\n"
          ],
          "name": "stdout"
        }
      ]
    },
    {
      "cell_type": "code",
      "metadata": {
        "colab": {
          "base_uri": "https://localhost:8080/"
        },
        "id": "zU5o43_1dkTn",
        "outputId": "68dff2b8-bbf1-4187-fc33-1a47936e08d1"
      },
      "source": [
        "# np_baseball is available\n",
        "\n",
        "# Import numpy\n",
        "import numpy as np\n",
        "\n",
        "# Print mean height (first column)\n",
        "avg = np.mean(np_baseball[:,0])\n",
        "print(\"Average: \" + str(avg))\n",
        "\n",
        "# Print median height. Replace 'None'\n",
        "med = np.median(np_baseball[:,0])\n",
        "print(\"Median: \" + str(med))\n",
        "\n",
        "# Print out the standard deviation on height. Replace 'None'\n",
        "stddev = np.std(np_baseball[:,0])\n",
        "print(\"Standard Deviation: \" + str(stddev))\n",
        "\n",
        "# Print out correlation between first and second column. Replace 'None'\n",
        "corr = np.corrcoef(np_baseball[:,0],np_baseball[:,1])\n",
        "print(\"Correlation: \" + str(corr))"
      ],
      "execution_count": 82,
      "outputs": [
        {
          "output_type": "stream",
          "text": [
            "Average: 73.6896551724138\n",
            "Median: 74.0\n",
            "Standard Deviation: 2.312791881046546\n",
            "Correlation: [[1.         0.53153932]\n",
            " [0.53153932 1.        ]]\n"
          ],
          "name": "stdout"
        }
      ]
    }
  ]
}